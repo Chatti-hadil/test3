{
 "cells": [
  {
   "cell_type": "markdown",
   "id": "7d4ed517-ea63-4954-b0d4-09a184b58f93",
   "metadata": {},
   "source": [
    "# My Jupyter Notebook on IBM Watson Studio"
   ]
  },
  {
   "cell_type": "markdown",
   "id": "108a13a1-f51b-48e3-a1d8-8c726949839c",
   "metadata": {},
   "source": [
    " **Chatti Hadil** <br>\n",
    "Currently a data science student,I am a very dedicated and determined person that is looking for new horizons and opportunities."
   ]
  },
  {
   "cell_type": "markdown",
   "id": "3b5d7379-61ad-4432-91c3-e570f4dd2dbe",
   "metadata": {},
   "source": [
    "*i am interested in data science because I am passionate about elaborating strategies, anticipating risks, and finding solutions and this path has led me to discover a bigger picture and dive into data science.*"
   ]
  },
  {
   "cell_type": "markdown",
   "id": "de83203e-f58f-4c36-ae71-110397763e68",
   "metadata": {},
   "source": [
    "### in the cell bellow we are going to test the function print, this function prints the specified message on the screen or other standerd output device"
   ]
  },
  {
   "cell_type": "code",
   "execution_count": 1,
   "id": "06a6684a-76a1-4092-a705-3ed87933d912",
   "metadata": {},
   "outputs": [
    {
     "name": "stdout",
     "output_type": "stream",
     "text": [
      "hello coursera\n"
     ]
    }
   ],
   "source": [
    "print(\"hello coursera\")"
   ]
  },
  {
   "cell_type": "code",
   "execution_count": null,
   "id": "61d6859a-628d-4f68-8f23-e6fa71174d95",
   "metadata": {},
   "outputs": [],
   "source": []
  },
  {
   "cell_type": "markdown",
   "id": "ce4e81b2-b14e-48a4-b5c7-2adf8398e2a8",
   "metadata": {},
   "source": [
    "https://www.exemple.org <br>\n",
    "\n",
    "> \"Her eyes had called him and his soul had leaped at the call. To live, to err, to fall, to triumph, to recreate life out of life!\" <br>\n",
    "~~this is how we do a strikethrough in markdown~~"
   ]
  },
  {
   "cell_type": "code",
   "execution_count": null,
   "id": "6b6eec0f-f42d-463b-bcb9-ab62672da645",
   "metadata": {},
   "outputs": [],
   "source": []
  }
 ],
 "metadata": {
  "kernelspec": {
   "display_name": "Python",
   "language": "python",
   "name": "conda-env-python-py"
  },
  "language_info": {
   "codemirror_mode": {
    "name": "ipython",
    "version": 3
   },
   "file_extension": ".py",
   "mimetype": "text/x-python",
   "name": "python",
   "nbconvert_exporter": "python",
   "pygments_lexer": "ipython3",
   "version": "3.7.12"
  }
 },
 "nbformat": 4,
 "nbformat_minor": 5
}
